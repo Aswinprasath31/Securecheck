# ✅ Step 1: Import Libraries
import pandas as pd

# ✅ Step 2: Load Dataset
df = pd.read_excel("traffic_stops.xlsx")

# ✅ Step 3: Drop Columns with All NaNs
df.dropna(axis=1, how='all', inplace=True)

# ✅ Step 4: Drop Rows with Essential Missing Info
df = df.dropna(subset=["stop_date", "stop_time", "driver_gender", "driver_age"])

# ✅ Step 5: Combine stop_date + stop_time
df["stop_datetime"] = pd.to_datetime(df["stop_date"].astype(str) + " " + df["stop_time"].astype(str), errors='coerce')

# ✅ Step 6: Feature Engineering
df["stop_hour"] = df["stop_datetime"].dt.hour
df["stop_month"] = df["stop_datetime"].dt.month
df["is_night_stop"] = df["stop_hour"].apply(lambda x: 1 if 22 <= x or x <= 5 else 0)

# ✅ Step 7: Select Important Columns
columns_to_keep = [
    'stop_datetime', 'country_name', 'driver_gender', 'driver_age', 'driver_race',
    'violation', 'search_conducted', 'search_type', 'stop_outcome',
    'is_arrested', 'stop_duration', 'drugs_related_stop',
    'stop_hour', 'stop_month', 'is_night_stop'
]
df_cleaned = df[columns_to_keep]

# ✅ Step 8: Export Cleaned Data
df_cleaned.to_csv("cleaned_traffic_stops.csv", index=False)
print("✅ Cleaned data saved to cleaned_traffic_stops.csv")
