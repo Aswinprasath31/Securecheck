import pandas as pd

# Load the raw .xlsx
df = pd.read_excel("traffic_stops (2).xlsx")

# Drop empty columns
df.dropna(axis=1, how='all', inplace=True)

# Drop rows with missing date/time/gender/age
df = df.dropna(subset=["stop_date", "stop_time", "driver_gender", "driver_age"])

# Combine date and time
df["stop_datetime"] = pd.to_datetime(df["stop_date"].astype(str) + " " + df["stop_time"].astype(str), errors='coerce')

# Feature engineering
df["stop_hour"] = df["stop_datetime"].dt.hour
df["stop_month"] = df["stop_datetime"].dt.month
df["is_night_stop"] = df["stop_hour"].apply(lambda x: 1 if 22 <= x or x <= 5 else 0)

# Select important columns
columns_to_keep = [
    'stop_datetime', 'country_name', 'driver_gender', 'driver_age', 'driver_race',
    'violation', 'search_conducted', 'search_type', 'stop_outcome',
    'is_arrested', 'stop_duration', 'drugs_related_stop',
    'stop_hour', 'stop_month', 'is_night_stop'
]
df_cleaned = df[columns_to_keep]

# Save to CSV
df_cleaned.to_csv("cleaned_traffic_stops.csv", index=False)
print("✅ Cleaned CSV generated")
